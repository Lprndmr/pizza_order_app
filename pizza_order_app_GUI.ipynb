{
  "nbformat": 4,
  "nbformat_minor": 0,
  "metadata": {
    "colab": {
      "provenance": []
    },
    "kernelspec": {
      "name": "python3",
      "display_name": "Python 3"
    },
    "language_info": {
      "name": "python"
    }
  },
  "cells": [
    {
      "cell_type": "code",
      "execution_count": 1,
      "metadata": {
        "colab": {
          "base_uri": "https://localhost:8080/",
          "height": 356
        },
        "id": "M4J2Vh0ErVuL",
        "outputId": "517311b5-afaa-451b-f594-ea267958ae9d"
      },
      "outputs": [
        {
          "output_type": "error",
          "ename": "TclError",
          "evalue": "ignored",
          "traceback": [
            "\u001b[0;31m---------------------------------------------------------------------------\u001b[0m",
            "\u001b[0;31mTclError\u001b[0m                                  Traceback (most recent call last)",
            "\u001b[0;32m<ipython-input-1-1b355e168bc5>\u001b[0m in \u001b[0;36m<module>\u001b[0;34m\u001b[0m\n\u001b[1;32m     70\u001b[0m \u001b[0;34m\u001b[0m\u001b[0m\n\u001b[1;32m     71\u001b[0m \u001b[0;32mif\u001b[0m \u001b[0m__name__\u001b[0m \u001b[0;34m==\u001b[0m \u001b[0;34m'__main__'\u001b[0m\u001b[0;34m:\u001b[0m\u001b[0;34m\u001b[0m\u001b[0;34m\u001b[0m\u001b[0m\n\u001b[0;32m---> 72\u001b[0;31m     \u001b[0mroot\u001b[0m \u001b[0;34m=\u001b[0m \u001b[0mtk\u001b[0m\u001b[0;34m.\u001b[0m\u001b[0mTk\u001b[0m\u001b[0;34m(\u001b[0m\u001b[0;34m)\u001b[0m\u001b[0;34m\u001b[0m\u001b[0;34m\u001b[0m\u001b[0m\n\u001b[0m\u001b[1;32m     73\u001b[0m     \u001b[0mapp\u001b[0m \u001b[0;34m=\u001b[0m \u001b[0mApplication\u001b[0m\u001b[0;34m(\u001b[0m\u001b[0mmaster\u001b[0m\u001b[0;34m=\u001b[0m\u001b[0mroot\u001b[0m\u001b[0;34m)\u001b[0m\u001b[0;34m\u001b[0m\u001b[0;34m\u001b[0m\u001b[0m\n\u001b[1;32m     74\u001b[0m     \u001b[0mapp\u001b[0m\u001b[0;34m.\u001b[0m\u001b[0mmainloop\u001b[0m\u001b[0;34m(\u001b[0m\u001b[0;34m)\u001b[0m\u001b[0;34m\u001b[0m\u001b[0;34m\u001b[0m\u001b[0m\n",
            "\u001b[0;32m/usr/lib/python3.9/tkinter/__init__.py\u001b[0m in \u001b[0;36m__init__\u001b[0;34m(self, screenName, baseName, className, useTk, sync, use)\u001b[0m\n\u001b[1;32m   2268\u001b[0m                 \u001b[0mbaseName\u001b[0m \u001b[0;34m=\u001b[0m \u001b[0mbaseName\u001b[0m \u001b[0;34m+\u001b[0m \u001b[0mext\u001b[0m\u001b[0;34m\u001b[0m\u001b[0;34m\u001b[0m\u001b[0m\n\u001b[1;32m   2269\u001b[0m         \u001b[0minteractive\u001b[0m \u001b[0;34m=\u001b[0m \u001b[0;32mFalse\u001b[0m\u001b[0;34m\u001b[0m\u001b[0;34m\u001b[0m\u001b[0m\n\u001b[0;32m-> 2270\u001b[0;31m         \u001b[0mself\u001b[0m\u001b[0;34m.\u001b[0m\u001b[0mtk\u001b[0m \u001b[0;34m=\u001b[0m \u001b[0m_tkinter\u001b[0m\u001b[0;34m.\u001b[0m\u001b[0mcreate\u001b[0m\u001b[0;34m(\u001b[0m\u001b[0mscreenName\u001b[0m\u001b[0;34m,\u001b[0m \u001b[0mbaseName\u001b[0m\u001b[0;34m,\u001b[0m \u001b[0mclassName\u001b[0m\u001b[0;34m,\u001b[0m \u001b[0minteractive\u001b[0m\u001b[0;34m,\u001b[0m \u001b[0mwantobjects\u001b[0m\u001b[0;34m,\u001b[0m \u001b[0museTk\u001b[0m\u001b[0;34m,\u001b[0m \u001b[0msync\u001b[0m\u001b[0;34m,\u001b[0m \u001b[0muse\u001b[0m\u001b[0;34m)\u001b[0m\u001b[0;34m\u001b[0m\u001b[0;34m\u001b[0m\u001b[0m\n\u001b[0m\u001b[1;32m   2271\u001b[0m         \u001b[0;32mif\u001b[0m \u001b[0museTk\u001b[0m\u001b[0;34m:\u001b[0m\u001b[0;34m\u001b[0m\u001b[0;34m\u001b[0m\u001b[0m\n\u001b[1;32m   2272\u001b[0m             \u001b[0mself\u001b[0m\u001b[0;34m.\u001b[0m\u001b[0m_loadtk\u001b[0m\u001b[0;34m(\u001b[0m\u001b[0;34m)\u001b[0m\u001b[0;34m\u001b[0m\u001b[0;34m\u001b[0m\u001b[0m\n",
            "\u001b[0;31mTclError\u001b[0m: no display name and no $DISPLAY environment variable"
          ]
        }
      ],
      "source": [
        "#Kütüphaneleri çağırma\n",
        "import csv\n",
        "import tkinter as tk\n",
        "from tkinter import ttk\n",
        "\n",
        "class Application(tk.Frame):\n",
        "    def __init__(self, master=None):\n",
        "        super().__init__(master)\n",
        "        self.master = master\n",
        "        self.create_widgets()\n",
        "\n",
        "    def create_widgets(self):\n",
        "        # etiketler ve girdiler oluşturma\n",
        "        self.name_label = ttk.Label(self.master, text=\"İsim-Soyisim:\")\n",
        "        self.name_label.grid(row=0, column=0)\n",
        "        self.name_entry = ttk.Entry(self.master)\n",
        "        self.name_entry.grid(row=0, column=1)\n",
        "\n",
        "        self.TC_label = ttk.Label(self.master, text=\"TC:\")\n",
        "        self.TC_label.grid(row=1, column=0)\n",
        "        self.TC_entry = ttk.Entry(self.master)\n",
        "        self.TC_entry.grid(row=1, column=1)\n",
        "        \n",
        "        self.credit_card_number_label = ttk.Label(self.master, text=\"Kredi kartı numarası:\")\n",
        "        self.credit_card_number_label.grid(row=2, column=0)\n",
        "        self.credit_card_number_entry = ttk.Entry(self.master)\n",
        "        self.credit_card_number_entry.grid(row=2, column=1)\n",
        "        \n",
        "        self.credit_card_password_label = ttk.Label(self.master, text=\"Kredi kartı şifresi:\")\n",
        "        self.credit_card_password_label.grid(row=3, column=0)\n",
        "        self.credit_card_password_entry = ttk.Entry(self.master)\n",
        "        self.credit_card_password_entry.grid(row=3, column=1)\n",
        "        \n",
        "        self.pizza_type_label = ttk.Label(self.master, text=\"Pizza Tipi:\")\n",
        "        self.pizza_type_label.grid(row=4, column=0)\n",
        "        self.pizza_type_entry = ttk.Entry(self.master)\n",
        "        self.pizza_type_entry.grid(row=4, column=1)\n",
        "        \n",
        "        self.sauce_label = ttk.Label(self.master, text=\"Soslar:\")\n",
        "        self.sauce_label.grid(row=5, column=0)\n",
        "        self.sauce_entry = ttk.Entry(self.master)\n",
        "        self.sauce_entry.grid(row=5, column=1)\n",
        "\n",
        "        \n",
        "        # kaydet düğmesini oluşturma\n",
        "        self.save_button = ttk.Button(self.master, text=\"Kaydet\", command=self.save_data)\n",
        "        self.save_button.grid(row=6, column=0)\n",
        "\n",
        "    def save_data(self):\n",
        "        # girilen verileri alma\n",
        "        name = self.name_entry.get()\n",
        "        TC = self.TC_entry.get()\n",
        "        credit_card_number = self.credit_card_number_entry.get()\n",
        "        credit_card_password = self.credit_card_password_entry.get()\n",
        "        pizza_type = self.pizza_type_entry.get()\n",
        "        sauce = self.sauce_entry.get()\n",
        "\n",
        "        # verileri CSV dosyasına kaydetme\n",
        "        with open('sipariş_girdileri.csv', mode='a', newline='') as file:\n",
        "            writer = csv.writer(file)\n",
        "            writer.writerow([name, TC, credit_card_number, credit_card_password, pizza_type, sauce])\n",
        "\n",
        "        # girdileri temizle\n",
        "        self.name_entry.delete(0, 'end')\n",
        "        self.TC_entry.delete(0, 'end')\n",
        "        self.credit_card_number_entry.delete(0, 'end')\n",
        "        self.credit_card_password_entry.delete(0, 'end')\n",
        "        self.pizza_type_entry.delete(0, 'end')\n",
        "        self.sauce_entry.delete(0, 'end')\n",
        "\n",
        "if __name__ == '__main__':\n",
        "    root = tk.Tk()\n",
        "    app = Application(master=root)\n",
        "    app.mainloop()\n"
      ]
    }
  ]
}